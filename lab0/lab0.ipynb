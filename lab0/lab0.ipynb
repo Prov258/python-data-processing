{
 "cells": [
  {
   "cell_type": "markdown",
   "metadata": {},
   "source": [
    "### **The basics of working in the Jupyter Notebook environment**"
   ]
  },
  {
   "cell_type": "code",
   "execution_count": 14,
   "metadata": {},
   "outputs": [
    {
     "name": "stdout",
     "output_type": "stream",
     "text": [
      "Variant: 7\n"
     ]
    }
   ],
   "source": [
    "N = ord(\"V\") % 10 + 1\n",
    "print(f'Variant: {N}')"
   ]
  },
  {
   "cell_type": "markdown",
   "metadata": {},
   "source": [
    "# <span style=\"color: red;\">**Task 1**</span>"
   ]
  },
  {
   "cell_type": "markdown",
   "metadata": {},
   "source": [
    "# **Iceland**\n",
    "\n",
    "<div style=\"border: 2px solid black; padding: 10px; margin-bottom: 10px; display: inline-block; width: auto;\">\n",
    "   Iceland is a northern island nation located in the North Atlantic Ocean.\n",
    "</div>"
   ]
  },
  {
   "cell_type": "markdown",
   "metadata": {},
   "source": [
    "## **Basic Facts**\n",
    "\n",
    "| **Aspect**      | **Details**                       |\n",
    "|-----------------|-----------------------------------|\n",
    "| **Area**        | 103,000 km²                       |\n",
    "| **Population**  | ~376,000 (as of 2024)             |\n",
    "| **Capital**     | Reykjavik                         |\n",
    "| **Language**    | Icelandic                         |\n",
    "| **Currency**    | Icelandic króna (ISK)             |"
   ]
  },
  {
   "cell_type": "markdown",
   "metadata": {},
   "source": [
    "### **Flag of Iceland**\n",
    "\n",
    "<svg width=220 height=160 xmlns=\"http://www.w3.org/2000/svg\">\n",
    "  <!-- Background -->\n",
    "  <rect width=220 height=160 fill=\"#02529C\"/>\n",
    "\n",
    "  <!-- White lines -->\n",
    "  <rect width=220 height=40 x=0 y=60 fill='white'/>\n",
    "  <rect width=40 height=160 x=60 y=0 fill='white'/>\n",
    "\n",
    "  <!-- Red lines -->\n",
    "  <rect width=220 height=20 x=0 y=70 fill='#DC1E35'/>\n",
    "  <rect width=20 height=160 x=70 y=0 fill='#DC1E35'/>\n",
    "</svg>"
   ]
  },
  {
   "cell_type": "markdown",
   "metadata": {},
   "source": [
    "\n",
    "## **Government Structure**\n",
    "\n",
    "- **Type**: *Parliamentary Republic*\n",
    "- **Head of State**: *President Guðni Th. Jóhannesson*\n",
    "- **Head of Government**: *Prime Minister Katrín Jakobsdóttir  *\n",
    "- **Parliament**: *Althingi, one of the oldest parliaments in the world, established in **930 AD**.*"
   ]
  },
  {
   "cell_type": "markdown",
   "metadata": {},
   "source": [
    "## **Prominent Personalities**\n",
    "\n",
    "- <span style=\"color: red;\">**Björk**</span>: Internationally acclaimed musician, blending Icelandic folk with avant-garde styles.\n",
    "- <span style=\"color: red;\">**Halldór Laxness**</span>: Nobel Prize-winning author known for works like *Independent People*.\n",
    "- <span style=\"color: red;\">**Vigdís Finnbogadóttir**</span>: The world’s first democratically elected female president."
   ]
  },
  {
   "cell_type": "markdown",
   "metadata": {},
   "source": [
    "## **Tourist routes**\n",
    "\n",
    "In Iceland, you can visit many places that fascinate with their natural beauty:\n",
    "\n",
    "1. **Golden Circle**:\n",
    "   - **Thingvellir National Park**\n",
    "   - **Geysers**\n",
    "   - **Gullfoss waterfall**\n",
    "\n",
    "2. **Northern regions**:\n",
    "   - **City of Akureyri**\n",
    "   - **Lake Miwatne**\n",
    "\n",
    "\n",
    "![Golden Circle](https://icelandtrippers.com/wp-content/uploads/2020/06/golden-circle-iceland-gullfoss-summer.jpg)\n",
    "\n",
    "<img src=\"https://www.discover-the-world.com/app/uploads/2018/05/iceland-north-east-myvatn-kalfastrond-sunset-rth-1440x0-c-default.jpg\" alt=\"Lake Miwatne\" width=1000/>\n",
    "\n"
   ]
  },
  {
   "cell_type": "markdown",
   "metadata": {},
   "source": [
    "\n",
    "## **Source of Information**\n",
    "\n",
    "- [Iceland on Wikipedia](https://en.wikipedia.org/wiki/Iceland)\n"
   ]
  },
  {
   "cell_type": "markdown",
   "metadata": {},
   "source": [
    "# <span style=\"color: red;\">**Task 2**</span>"
   ]
  },
  {
   "cell_type": "markdown",
   "metadata": {},
   "source": [
    "*Implement an algorithm for converting numbers (integers and moving point) from the decimal system to binary.*"
   ]
  },
  {
   "cell_type": "code",
   "execution_count": 56,
   "metadata": {},
   "outputs": [],
   "source": [
    "import numbers\n",
    "\n",
    "def dec_to_bin(num):\n",
    "    bin = []\n",
    "    is_negative = True if num < 0 else False\n",
    "    num = abs(num)\n",
    "\n",
    "    while num > 0:\n",
    "        bin.append(str(num % 2))\n",
    "        num //= 2\n",
    "\n",
    "    bin.reverse()\n",
    "\n",
    "    return f\"{'1' if is_negative else '0'}|{''.join(bin)}\"\n",
    "\n",
    "def frac_to_bin(num, places = 5):\n",
    "    bin = []\n",
    "\n",
    "    for _ in range(places):\n",
    "        num *= 2\n",
    "\n",
    "        if num == 1:\n",
    "            bin.append('1')\n",
    "            break\n",
    "        elif num > 1:\n",
    "            bin.append('1')\n",
    "            num = float('.' + str(num).split('.')[1]) # extract fractional part\n",
    "        else:\n",
    "            bin.append('0')\n",
    "\n",
    "    return ''.join(bin)\n",
    "\n",
    "def task7(num):\n",
    "    if not isinstance(num, numbers.Number):\n",
    "        raise Exception('Argument must be a number')\n",
    "\n",
    "    num_parts = str(num).split('.')\n",
    "    integral = int(num_parts[0])\n",
    "\n",
    "    integral_bin = dec_to_bin(integral)\n",
    "\n",
    "    fractional_bin = ''\n",
    "    if len(num_parts) > 1:\n",
    "        fractional = float('0.' + num_parts[1])\n",
    "        fractional_bin = frac_to_bin(fractional)\n",
    "\n",
    "    return f\"{integral_bin}{'.' if len(fractional_bin) else ''}{fractional_bin}\""
   ]
  },
  {
   "cell_type": "markdown",
   "metadata": {},
   "source": [
    "## <span style=\"color: green;\">Tests</span>"
   ]
  },
  {
   "cell_type": "code",
   "execution_count": null,
   "metadata": {},
   "outputs": [],
   "source": [
    "print(task7(32))\n",
    "print(task7(-10.25))\n",
    "print(task7(1.234))\n",
    "print(task7('f'))"
   ]
  }
 ],
 "metadata": {
  "kernelspec": {
   "display_name": "Python 3",
   "language": "python",
   "name": "python3"
  },
  "language_info": {
   "codemirror_mode": {
    "name": "ipython",
    "version": 3
   },
   "file_extension": ".py",
   "mimetype": "text/x-python",
   "name": "python",
   "nbconvert_exporter": "python",
   "pygments_lexer": "ipython3",
   "version": "3.12.1"
  }
 },
 "nbformat": 4,
 "nbformat_minor": 2
}
